{
 "cells": [
  {
   "cell_type": "code",
   "execution_count": null,
   "id": "916e43e9",
   "metadata": {},
   "outputs": [],
   "source": [
    "import joblib\n",
    "import numpy as np"
   ]
  },
  {
   "cell_type": "code",
   "execution_count": 2,
   "id": "a769bcfe",
   "metadata": {},
   "outputs": [],
   "source": [
    "model = joblib.load(\"lr_model.pkl\")"
   ]
  },
  {
   "cell_type": "code",
   "execution_count": null,
   "id": "15dcb15f",
   "metadata": {},
   "outputs": [],
   "source": [
    "model"
   ]
  },
  {
   "cell_type": "code",
   "execution_count": null,
   "id": "8025035a",
   "metadata": {},
   "outputs": [],
   "source": [
    "from sentence_transformers import SentenceTransformer\n",
    "encoder = SentenceTransformer('bert-base-nli-mean-tokens')"
   ]
  },
  {
   "cell_type": "code",
   "execution_count": null,
   "id": "d60ae8cf",
   "metadata": {},
   "outputs": [],
   "source": [
    "X_emb = encoder.encode(\"Free entry in 2 a wkly comp to win FA Cup final tkts 21st May 2005.\")"
   ]
  },
  {
   "cell_type": "code",
   "execution_count": null,
   "id": "19ed0e39",
   "metadata": {},
   "outputs": [],
   "source": [
    "X_emb"
   ]
  },
  {
   "cell_type": "code",
   "execution_count": null,
   "id": "c39469e3",
   "metadata": {},
   "outputs": [],
   "source": [
    "pred = model.predict([X_emb])"
   ]
  },
  {
   "cell_type": "code",
   "execution_count": null,
   "id": "c2b640e2",
   "metadata": {},
   "outputs": [],
   "source": [
    "pred"
   ]
  },
  {
   "cell_type": "code",
   "execution_count": null,
   "id": "1ddfdae0",
   "metadata": {},
   "outputs": [],
   "source": [
    "if pred==\"ham\":\n",
    "    print(\"Not Spam\")\n",
    "else:\n",
    "    print(\"Spam\")"
   ]
  },
  {
   "cell_type": "markdown",
   "id": "1af5dfb0",
   "metadata": {},
   "source": [
    "# from ChatGPT"
   ]
  },
  {
   "cell_type": "code",
   "execution_count": null,
   "id": "666472c3",
   "metadata": {},
   "outputs": [],
   "source": [
    "from flask import Flask, request, jsonify\n",
    "import joblib\n",
    "import numpy as np\n",
    "from sentence_transformers import SentenceTransformer\n",
    "\n",
    "app = Flask(__name__)\n",
    "\n",
    "model = joblib.load('logreg_model.pkl')\n",
    "model1 = SentenceTransformer('all-MiniLM-L6-v2')\n",
    "\n",
    "@app.route('/predict', methods=['POST'])\n",
    "def predict():\n",
    "    data = request.get_json()\n",
    "    sentence = data['text']\n",
    "    X_emb = model1.encode(sentence)\n",
    "    pred = model.predict(np.array(X_emb).reshape(1, -1))\n",
    "    return jsonify({'prediction': int(pred[0])})\n"
   ]
  }
 ],
 "metadata": {
  "kernelspec": {
   "display_name": "ml",
   "language": "python",
   "name": "python3"
  },
  "language_info": {
   "codemirror_mode": {
    "name": "ipython",
    "version": 3
   },
   "file_extension": ".py",
   "mimetype": "text/x-python",
   "name": "python",
   "nbconvert_exporter": "python",
   "pygments_lexer": "ipython3",
   "version": "3.11.5"
  }
 },
 "nbformat": 4,
 "nbformat_minor": 5
}
